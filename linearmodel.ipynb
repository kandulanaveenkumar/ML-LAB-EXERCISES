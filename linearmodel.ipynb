{
 "cells": [
  {
   "cell_type": "code",
   "execution_count": 8,
   "metadata": {},
   "outputs": [
    {
     "name": "stdout",
     "output_type": "stream",
     "text": [
      "    Loan_ID Gender Married Dependents Education Self_Employed  \\\n",
      "0  LP001032   Male      No          0  Graduate            No   \n",
      "1  LP001824   Male     Yes          1  Graduate            No   \n",
      "2  LP002928   Male     Yes          0  Graduate            No   \n",
      "3  LP001814   Male     Yes          2  Graduate            No   \n",
      "4  LP002244   Male     Yes          0  Graduate            No   \n",
      "\n",
      "   ApplicantIncome  CoapplicantIncome  LoanAmount  Loan_Amount_Term  \\\n",
      "0             4950                0.0         125               360   \n",
      "1             2882             1843.0         123               480   \n",
      "2             3000             3416.0          56               180   \n",
      "3             9703                0.0         112               360   \n",
      "4             2333             2417.0         136               360   \n",
      "\n",
      "   Credit_History Property_Area  \n",
      "0               1         Urban  \n",
      "1               1     Semiurban  \n",
      "2               1     Semiurban  \n",
      "3               1         Urban  \n",
      "4               1         Urban  \n",
      "  Target\n",
      "0      Y\n",
      "1      Y\n",
      "2      Y\n",
      "3      Y\n",
      "4      Y\n",
      "    Loan_ID  Gender Married Dependents     Education Self_Employed  \\\n",
      "0  LP002684  Female      No          0  Not Graduate            No   \n",
      "1  LP001907    Male     Yes          0      Graduate            No   \n",
      "2  LP001205    Male     Yes          0      Graduate            No   \n",
      "3  LP001275    Male     Yes          1      Graduate            No   \n",
      "4  LP002455    Male     Yes          2      Graduate            No   \n",
      "\n",
      "   ApplicantIncome  CoapplicantIncome  LoanAmount  Loan_Amount_Term  \\\n",
      "0             3400                  0          95               360   \n",
      "1            14583                  0         436               360   \n",
      "2             2500               3796         120               360   \n",
      "3             3988                  0          50               240   \n",
      "4             3859                  0          96               360   \n",
      "\n",
      "   Credit_History Property_Area  \n",
      "0               1         Rural  \n",
      "1               1     Semiurban  \n",
      "2               1         Urban  \n",
      "3               1         Urban  \n",
      "4               1     Semiurban  \n",
      "  Target\n",
      "0      N\n",
      "1      Y\n",
      "2      Y\n",
      "3      Y\n",
      "4      Y\n"
     ]
    }
   ],
   "source": [
    "import numpy as np\n",
    "import pandas as pd\n",
    "from sklearn.linear_model import LinearRegression\n",
    "path1=\"C:\\\\Users\\\\Personal\\\\Downloads\\\\X_train.csv\"\n",
    "X_train=pd.read_csv(path1)\n",
    "print(X_train.head())\n",
    "\n",
    "path2=\"C:\\\\Users\\\\Personal\\\\Downloads\\\\Y_train.csv\"\n",
    "Y_train=pd.read_csv(path2)\n",
    "print(Y_train.head())\n",
    "\n",
    "path3=\"C:\\\\Users\\\\Personal\\\\Downloads\\\\X_test.csv\"\n",
    "X_test=pd.read_csv(path3)\n",
    "print(X_test.head())\n",
    "\n",
    "path4=\"C:\\\\Users\\\\Personal\\\\Downloads\\\\Y_test.csv\"\n",
    "Y_test=pd.read_csv(path4)\n",
    "print(Y_test.head())"
   ]
  },
  {
   "cell_type": "code",
   "execution_count": 9,
   "metadata": {},
   "outputs": [
    {
     "data": {
      "text/html": [
       "<div>\n",
       "<style scoped>\n",
       "    .dataframe tbody tr th:only-of-type {\n",
       "        vertical-align: middle;\n",
       "    }\n",
       "\n",
       "    .dataframe tbody tr th {\n",
       "        vertical-align: top;\n",
       "    }\n",
       "\n",
       "    .dataframe thead th {\n",
       "        text-align: right;\n",
       "    }\n",
       "</style>\n",
       "<table border=\"1\" class=\"dataframe\">\n",
       "  <thead>\n",
       "    <tr style=\"text-align: right;\">\n",
       "      <th></th>\n",
       "      <th>ApplicantIncome</th>\n",
       "      <th>CoapplicantIncome</th>\n",
       "      <th>LoanAmount</th>\n",
       "      <th>Loan_Amount_Term</th>\n",
       "      <th>Credit_History</th>\n",
       "    </tr>\n",
       "  </thead>\n",
       "  <tbody>\n",
       "    <tr>\n",
       "      <th>count</th>\n",
       "      <td>384.000000</td>\n",
       "      <td>384.000000</td>\n",
       "      <td>384.000000</td>\n",
       "      <td>384.000000</td>\n",
       "      <td>384.000000</td>\n",
       "    </tr>\n",
       "    <tr>\n",
       "      <th>mean</th>\n",
       "      <td>5149.718750</td>\n",
       "      <td>1572.077917</td>\n",
       "      <td>141.471354</td>\n",
       "      <td>342.093750</td>\n",
       "      <td>0.856771</td>\n",
       "    </tr>\n",
       "    <tr>\n",
       "      <th>std</th>\n",
       "      <td>5304.921764</td>\n",
       "      <td>2624.223119</td>\n",
       "      <td>75.176271</td>\n",
       "      <td>65.846658</td>\n",
       "      <td>0.350763</td>\n",
       "    </tr>\n",
       "    <tr>\n",
       "      <th>min</th>\n",
       "      <td>150.000000</td>\n",
       "      <td>0.000000</td>\n",
       "      <td>9.000000</td>\n",
       "      <td>36.000000</td>\n",
       "      <td>0.000000</td>\n",
       "    </tr>\n",
       "    <tr>\n",
       "      <th>25%</th>\n",
       "      <td>2898.750000</td>\n",
       "      <td>0.000000</td>\n",
       "      <td>100.000000</td>\n",
       "      <td>360.000000</td>\n",
       "      <td>1.000000</td>\n",
       "    </tr>\n",
       "    <tr>\n",
       "      <th>50%</th>\n",
       "      <td>3893.500000</td>\n",
       "      <td>1188.500000</td>\n",
       "      <td>128.000000</td>\n",
       "      <td>360.000000</td>\n",
       "      <td>1.000000</td>\n",
       "    </tr>\n",
       "    <tr>\n",
       "      <th>75%</th>\n",
       "      <td>5819.500000</td>\n",
       "      <td>2259.250000</td>\n",
       "      <td>164.250000</td>\n",
       "      <td>360.000000</td>\n",
       "      <td>1.000000</td>\n",
       "    </tr>\n",
       "    <tr>\n",
       "      <th>max</th>\n",
       "      <td>81000.000000</td>\n",
       "      <td>33837.000000</td>\n",
       "      <td>600.000000</td>\n",
       "      <td>480.000000</td>\n",
       "      <td>1.000000</td>\n",
       "    </tr>\n",
       "  </tbody>\n",
       "</table>\n",
       "</div>"
      ],
      "text/plain": [
       "       ApplicantIncome  CoapplicantIncome  LoanAmount  Loan_Amount_Term  \\\n",
       "count       384.000000         384.000000  384.000000        384.000000   \n",
       "mean       5149.718750        1572.077917  141.471354        342.093750   \n",
       "std        5304.921764        2624.223119   75.176271         65.846658   \n",
       "min         150.000000           0.000000    9.000000         36.000000   \n",
       "25%        2898.750000           0.000000  100.000000        360.000000   \n",
       "50%        3893.500000        1188.500000  128.000000        360.000000   \n",
       "75%        5819.500000        2259.250000  164.250000        360.000000   \n",
       "max       81000.000000       33837.000000  600.000000        480.000000   \n",
       "\n",
       "       Credit_History  \n",
       "count      384.000000  \n",
       "mean         0.856771  \n",
       "std          0.350763  \n",
       "min          0.000000  \n",
       "25%          1.000000  \n",
       "50%          1.000000  \n",
       "75%          1.000000  \n",
       "max          1.000000  "
      ]
     },
     "execution_count": 9,
     "metadata": {},
     "output_type": "execute_result"
    }
   ],
   "source": [
    "X_train.describe()"
   ]
  },
  {
   "cell_type": "code",
   "execution_count": 17,
   "metadata": {},
   "outputs": [
    {
     "name": "stdout",
     "output_type": "stream",
     "text": [
      "Accuracy is 61.458333333333336%\n"
     ]
    },
    {
     "name": "stderr",
     "output_type": "stream",
     "text": [
      "C:\\Users\\Personal\\Anaconda3\\lib\\site-packages\\sklearn\\linear_model\\logistic.py:433: FutureWarning: Default solver will be changed to 'lbfgs' in 0.22. Specify a solver to silence this warning.\n",
      "  FutureWarning)\n",
      "C:\\Users\\Personal\\Anaconda3\\lib\\site-packages\\sklearn\\utils\\validation.py:761: DataConversionWarning: A column-vector y was passed when a 1d array was expected. Please change the shape of y to (n_samples, ), for example using ravel().\n",
      "  y = column_or_1d(y, warn=True)\n"
     ]
    }
   ],
   "source": [
    "X_train_temp=X_train.iloc[:,6:11]\n",
    "X_test_temp=X_test.iloc[:,6:11]\n",
    "\n",
    "from sklearn.linear_model import LogisticRegression\n",
    "log=LogisticRegression(penalty='l2',C=.01)\n",
    "log.fit(X_train_temp,Y_train)\n",
    "\n",
    "score=log.score(X_test_temp,Y_test)\n",
    "print('Accuracy is {}%'.format(score*100))\n",
    "      "
   ]
  },
  {
   "cell_type": "code",
   "execution_count": 18,
   "metadata": {},
   "outputs": [
    {
     "name": "stdout",
     "output_type": "stream",
     "text": [
      "Accuracy is 75.0\n"
     ]
    },
    {
     "name": "stderr",
     "output_type": "stream",
     "text": [
      "C:\\Users\\Personal\\Anaconda3\\lib\\site-packages\\ipykernel_launcher.py:3: DataConversionWarning: Data with input dtype int64, float64 were all converted to float64 by the scale function.\n",
      "  This is separate from the ipykernel package so we can avoid doing imports until\n",
      "C:\\Users\\Personal\\Anaconda3\\lib\\site-packages\\ipykernel_launcher.py:4: DataConversionWarning: Data with input dtype int64 were all converted to float64 by the scale function.\n",
      "  after removing the cwd from sys.path.\n",
      "C:\\Users\\Personal\\Anaconda3\\lib\\site-packages\\sklearn\\linear_model\\logistic.py:433: FutureWarning: Default solver will be changed to 'lbfgs' in 0.22. Specify a solver to silence this warning.\n",
      "  FutureWarning)\n",
      "C:\\Users\\Personal\\Anaconda3\\lib\\site-packages\\sklearn\\utils\\validation.py:761: DataConversionWarning: A column-vector y was passed when a 1d array was expected. Please change the shape of y to (n_samples, ), for example using ravel().\n",
      "  y = column_or_1d(y, warn=True)\n"
     ]
    }
   ],
   "source": [
    "from sklearn.preprocessing import scale\n",
    "\n",
    "X_train_scale=scale(X_train_temp, axis=0, with_mean=True, with_std=True, copy=True)\n",
    "X_test_scale=scale(X_test_temp,axis=0,with_mean=True,with_std=True,copy=True)\n",
    "\n",
    "from sklearn.linear_model import LogisticRegression\n",
    "log=LogisticRegression(penalty='l2',C=.01)\n",
    "log.fit(X_train_scale,Y_train)\n",
    "\n",
    "score=log.score(X_test_scale,Y_test)\n",
    "print('Accuracy is {}'.format(score*100))"
   ]
  },
  {
   "cell_type": "code",
   "execution_count": null,
   "metadata": {},
   "outputs": [],
   "source": []
  }
 ],
 "metadata": {
  "kernelspec": {
   "display_name": "Python 3",
   "language": "python",
   "name": "python3"
  },
  "language_info": {
   "codemirror_mode": {
    "name": "ipython",
    "version": 3
   },
   "file_extension": ".py",
   "mimetype": "text/x-python",
   "name": "python",
   "nbconvert_exporter": "python",
   "pygments_lexer": "ipython3",
   "version": "3.7.3"
  }
 },
 "nbformat": 4,
 "nbformat_minor": 2
}
